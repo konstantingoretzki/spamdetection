{
 "cells": [
  {
   "cell_type": "markdown",
   "id": "continental-waste",
   "metadata": {},
   "source": [
    "# Features"
   ]
  },
  {
   "cell_type": "code",
   "execution_count": 1,
   "id": "political-lebanon",
   "metadata": {},
   "outputs": [],
   "source": [
    "import pandas as pd\n",
    "from os import listdir\n",
    "from os.path import isfile, join\n",
    "\n",
    "import json\n",
    "import re\n",
    "from bs4 import BeautifulSoup\n",
    "import email\n",
    "import urllib\n",
    "import base64\n",
    "import string\n",
    "import quopri\n",
    "import time\n",
    "\n",
    "import numpy as np\n",
    "\n",
    "import seaborn as sns\n",
    "import sklearn.utils\n",
    "\n",
    "import nltk\n",
    "from nltk.corpus import stopwords\n",
    "from nltk.stem import WordNetLemmatizer\n",
    "from nltk.corpus import words\n",
    "\n",
    "from sklearn.feature_extraction.text import TfidfVectorizer\n",
    "import joblib\n",
    "\n",
    "import matplotlib.pyplot as plt\n",
    "\n",
    "from sklearn.preprocessing import LabelEncoder\n",
    "from sklearn.model_selection import train_test_split\n",
    "from sklearn.pipeline import Pipeline    \n",
    "from sklearn.naive_bayes import MultinomialNB\n",
    "from sklearn.ensemble import RandomForestClassifier\n",
    "from sklearn.neighbors import KNeighborsClassifier\n",
    "from sklearn.svm import SVC\n",
    "from sklearn.model_selection import cross_val_score\n",
    "from sklearn.metrics import precision_score, recall_score, plot_confusion_matrix, classification_report, accuracy_score, f1_score\n",
    "from sklearn import metrics"
   ]
  },
  {
   "cell_type": "code",
   "execution_count": 2,
   "id": "concrete-lodge",
   "metadata": {},
   "outputs": [],
   "source": [
    "# import dataframe\n",
    "df = joblib.load(\"exports/dataframe.sav\")"
   ]
  },
  {
   "cell_type": "code",
   "execution_count": 3,
   "id": "literary-thumb",
   "metadata": {},
   "outputs": [
    {
     "data": {
      "text/plain": [
       "62701"
      ]
     },
     "execution_count": 3,
     "metadata": {},
     "output_type": "execute_result"
    }
   ],
   "source": [
    "len(df)"
   ]
  },
  {
   "cell_type": "code",
   "execution_count": 5,
   "id": "exact-cancellation",
   "metadata": {},
   "outputs": [],
   "source": [
    "df_spam = df[df[\"spam\"] == 1]"
   ]
  },
  {
   "cell_type": "code",
   "execution_count": 6,
   "id": "robust-pension",
   "metadata": {},
   "outputs": [],
   "source": [
    "df_ham = df[df[\"spam\"] == 0]"
   ]
  },
  {
   "cell_type": "code",
   "execution_count": 7,
   "id": "loved-lounge",
   "metadata": {},
   "outputs": [
    {
     "data": {
      "text/plain": [
       "34291"
      ]
     },
     "execution_count": 7,
     "metadata": {},
     "output_type": "execute_result"
    }
   ],
   "source": [
    "len(df_spam)"
   ]
  },
  {
   "cell_type": "code",
   "execution_count": 8,
   "id": "curious-priest",
   "metadata": {},
   "outputs": [
    {
     "data": {
      "text/plain": [
       "28410"
      ]
     },
     "execution_count": 8,
     "metadata": {},
     "output_type": "execute_result"
    }
   ],
   "source": [
    "len(df_ham)"
   ]
  },
  {
   "cell_type": "markdown",
   "id": "middle-cleaners",
   "metadata": {},
   "source": [
    "# Outliers"
   ]
  },
  {
   "cell_type": "code",
   "execution_count": 4,
   "id": "alike-bailey",
   "metadata": {},
   "outputs": [
    {
     "data": {
      "text/plain": [
       "<seaborn.axisgrid.FacetGrid at 0x281c64bff10>"
      ]
     },
     "execution_count": 4,
     "metadata": {},
     "output_type": "execute_result"
    },
    {
     "data": {
      "image/png": "[encoded data removed]",
      "text/plain": [
       "<Figure size 360x360 with 1 Axes>"
      ]
     },
     "metadata": {
      "needs_background": "light"
     },
     "output_type": "display_data"
    }
   ],
   "source": [
    "sns.catplot(x=\"spam\", y=\"chars\", data=df)"
   ]
  },
  {
   "cell_type": "code",
   "execution_count": 5,
   "id": "wooden-wichita",
   "metadata": {},
   "outputs": [
    {
     "data": {
      "text/plain": [
       "3"
      ]
     },
     "execution_count": 5,
     "metadata": {},
     "output_type": "execute_result"
    }
   ],
   "source": [
    "len(df[df['chars'].map(lambda d: d) > 190000])"
   ]
  },
  {
   "cell_type": "code",
   "execution_count": 6,
   "id": "bound-glucose",
   "metadata": {},
   "outputs": [
    {
     "data": {
      "text/plain": [
       "53324    change your settings: http://blo.gs/settings.p...\n",
       "63715    On Fri Apr 27 14:43:55 2007, jkeen@verizon.net...\n",
       "75545    commit a snapshot of the generated prototype h...\n",
       "Name: raw_data, dtype: object"
      ]
     },
     "execution_count": 6,
     "metadata": {},
     "output_type": "execute_result"
    }
   ],
   "source": [
    "df[df['chars'].map(lambda d: d) > 190000][\"raw_data\"]"
   ]
  },
  {
   "cell_type": "code",
   "execution_count": 26,
   "id": "funky-benchmark",
   "metadata": {},
   "outputs": [
    {
     "data": {
      "text/plain": [
       "'On Fri Apr 27 14:43:55 2007, jkeen@verizon.net wrote:\\n> A file with coverage analysis will be supplied in a  \\n> separate posting to this thread.\\n\\nAttached is a plain text version of the coverage analysis.  Coverage was run on a \\'post-\\nConfigure.pl\\' basis:\\n\\n  $ cover -delete coverage/configure/\\n  $ ./myconfigure.sh \\n  $ PERL5OPT=-MDevel::Cover=-db,coverage/configure/ prove t/configure/*.t t/\\npostconfigure/01-data_slurp.t \"$@\"\\n  $ cover coverage/configure/ -report=text  -ignore_re \\'(^(config\\\\/|lib\\\\/(?!P\\narrot))|\\\\busr\\\\b)\\' > ~/learn/parrot/coverage/postconfigure.coverage.txt\\n\\nkid51\\nb\\'Reading database from /Users/jimk/work/fresh/coverage/configure\\\\n\\\\n\\\\n---------------------------- ------ ------ ------ ------ ------ ------ ------\\\\nFile                           stmt   bran   cond    sub    pod   time  total\\\\n---------------------------- ------ ------ ------ ------ ------ ------ ------\\\\n/usr/local/bin/prove           73.7   43.8    0.0   46.7    n/a    1.1   61.1\\\\nconfig/auto/aio.pm          '"
      ]
     },
     "execution_count": 26,
     "metadata": {},
     "output_type": "execute_result"
    }
   ],
   "source": [
    "df[df['chars'].map(lambda d: d) > 190000][\"raw_data\"][63715][:1000]"
   ]
  },
  {
   "cell_type": "code",
   "execution_count": 7,
   "id": "starting-wages",
   "metadata": {},
   "outputs": [],
   "source": [
    "# outliers are legit mails --> do not remove (e.g. someone just sent code (diff) via mail ...)"
   ]
  },
  {
   "cell_type": "code",
   "execution_count": 13,
   "id": "physical-diamond",
   "metadata": {},
   "outputs": [
    {
     "data": {
      "text/plain": [
       "<seaborn.axisgrid.FacetGrid at 0x281c64ba790>"
      ]
     },
     "execution_count": 13,
     "metadata": {},
     "output_type": "execute_result"
    },
    {
     "data": {
      "image/png": "[encoded data removed]",
      "text/plain": [
       "<Figure size 360x360 with 1 Axes>"
      ]
     },
     "metadata": {
      "needs_background": "light"
     },
     "output_type": "display_data"
    }
   ],
   "source": [
    "sns.catplot(x=\"spam\", y=\"chars\", data=df).set(ylim=(10, 50000))"
   ]
  },
  {
   "cell_type": "code",
   "execution_count": 14,
   "id": "geological-curve",
   "metadata": {},
   "outputs": [
    {
     "data": {
      "text/plain": [
       "<seaborn.axisgrid.FacetGrid at 0x281b4370490>"
      ]
     },
     "execution_count": 14,
     "metadata": {},
     "output_type": "execute_result"
    },
    {
     "data": {
      "image/png": "[encoded data removed]",
      "text/plain": [
       "<Figure size 360x360 with 1 Axes>"
      ]
     },
     "metadata": {
      "needs_background": "light"
     },
     "output_type": "display_data"
    }
   ],
   "source": [
    "sns.catplot(x=\"spam\", y=\"tokens\", data=df)"
   ]
  },
  {
   "cell_type": "code",
   "execution_count": 17,
   "id": "architectural-gateway",
   "metadata": {},
   "outputs": [
    {
     "data": {
      "text/plain": [
       "75545    commit a snapshot of the generated prototype h...\n",
       "Name: raw_data, dtype: object"
      ]
     },
     "execution_count": 17,
     "metadata": {},
     "output_type": "execute_result"
    }
   ],
   "source": [
    "df[df['tokens'].map(lambda d: d) > 90000][\"raw_data\"]"
   ]
  },
  {
   "cell_type": "code",
   "execution_count": 18,
   "id": "unnecessary-focus",
   "metadata": {},
   "outputs": [
    {
     "data": {
      "text/plain": [
       "'commit a snapshot of the generated prototype headers\\n---\\nsource/client/client_proto.h     |  366 ++\\nsource/include/proto.h           |10128 ++++++++++++++++++++++++++++++ \\n++++++++\\nsource/nsswitch/winbindd_proto.h |  516 ++\\nsource/utils/net_proto.h         |  382 ++\\nsource/utils/ntlm_auth_proto.h   |   28 +\\nsource/utils/passwd_proto.h      |   12 +\\nsource/web/swat_proto.h          |   49 +\\n7 files changed, 11481 insertions(+), 0 deletions(-)\\ncreate mode 100644 source/client/client_proto.h\\ncreate mode 100644 source/include/proto.h\\ncreate mode 100644 source/nsswitch/winbindd_proto.h\\ncreate mode 100644 source/utils/net_proto.h\\ncreate mode 100644 source/utils/ntlm_auth_proto.h\\ncreate mode 100644 source/utils/passwd_proto.h\\ncreate mode 100644 source/web/swat_proto.h\\n\\ndiff --git a/source/client/client_proto.h b/source/client/client_proto.h\\nnew file mode 100644\\nindex 0000000..f5027e8\\n--- /dev/null\\n+++ b/source/client/client_proto.h\\n@@ -0,0 +1,366 @@\\n+#ifndef _CLIENT_PROTO_H_\\n+#define _CLIENT_'"
      ]
     },
     "execution_count": 18,
     "metadata": {},
     "output_type": "execute_result"
    }
   ],
   "source": [
    "df[df['tokens'].map(lambda d: d) > 90000][\"raw_data\"][75545][:1000]"
   ]
  },
  {
   "cell_type": "code",
   "execution_count": 20,
   "id": "logical-heather",
   "metadata": {},
   "outputs": [],
   "source": [
    "# token outlier is chars outlier --> do not remove (same reason)"
   ]
  },
  {
   "cell_type": "code",
   "execution_count": 19,
   "id": "funky-split",
   "metadata": {},
   "outputs": [
    {
     "data": {
      "text/plain": [
       "<seaborn.axisgrid.FacetGrid at 0x281b43b40d0>"
      ]
     },
     "execution_count": 19,
     "metadata": {},
     "output_type": "execute_result"
    },
    {
     "data": {
      "image/png": "[encoded data removed]",
      "text/plain": [
       "<Figure size 360x360 with 1 Axes>"
      ]
     },
     "metadata": {
      "needs_background": "light"
     },
     "output_type": "display_data"
    }
   ],
   "source": [
    "sns.catplot(x=\"spam\", y=\"tokens\", data=df).set(ylim=(10, 20000))"
   ]
  },
  {
   "cell_type": "markdown",
   "id": "sufficient-narrow",
   "metadata": {},
   "source": [
    "# Feature ideas"
   ]
  },
  {
   "cell_type": "code",
   "execution_count": 16,
   "id": "composed-combine",
   "metadata": {},
   "outputs": [
    {
     "data": {
      "text/plain": [
       "spam  bad_domain\n",
       "0     0             27737\n",
       "      1               673\n",
       "1     0             34202\n",
       "      1                89\n",
       "dtype: int64"
      ]
     },
     "execution_count": 16,
     "metadata": {},
     "output_type": "execute_result"
    }
   ],
   "source": [
    "df.groupby(['spam', 'bad_domain']).size()"
   ]
  },
  {
   "cell_type": "code",
   "execution_count": 19,
   "id": "stone-holiday",
   "metadata": {},
   "outputs": [],
   "source": [
    "# bad_domain does not seem to be a good indicator\n",
    "# there are more ham mails that contain blacklisted domains than spam mails ..."
   ]
  },
  {
   "cell_type": "code",
   "execution_count": 17,
   "id": "induced-librarian",
   "metadata": {},
   "outputs": [
    {
     "data": {
      "text/plain": [
       "spam  contains_urls\n",
       "0     0                 4087\n",
       "      1                24323\n",
       "1     0                 8402\n",
       "      1                25889\n",
       "dtype: int64"
      ]
     },
     "execution_count": 17,
     "metadata": {},
     "output_type": "execute_result"
    }
   ],
   "source": [
    "df.groupby(['spam', 'contains_urls']).size()"
   ]
  },
  {
   "cell_type": "code",
   "execution_count": 18,
   "id": "dressed-preserve",
   "metadata": {},
   "outputs": [],
   "source": [
    "# url does not seem to be a good indicator due to the balanced distribution"
   ]
  },
  {
   "cell_type": "markdown",
   "id": "certain-advance",
   "metadata": {},
   "source": [
    "# Feature importances"
   ]
  },
  {
   "cell_type": "code",
   "execution_count": 4,
   "id": "wicked-waterproof",
   "metadata": {},
   "outputs": [],
   "source": [
    "from matplotlib import pyplot\n",
    "import math"
   ]
  },
  {
   "cell_type": "code",
   "execution_count": 7,
   "id": "amber-judge",
   "metadata": {},
   "outputs": [],
   "source": [
    "# import vocabulary\n",
    "vocab = joblib.load(\"exports/vocab.sav\")\n",
    "# import model\n",
    "model = joblib.load(\"exports/model.sav\")"
   ]
  },
  {
   "cell_type": "code",
   "execution_count": 37,
   "id": "presidential-specialist",
   "metadata": {},
   "outputs": [
    {
     "name": "stdout",
     "output_type": "stream",
     "text": [
      "Feature: 9580, Score: 0.00761\n",
      "Feature: 9927, Score: 0.00622\n",
      "Feature: 10659, Score: 0.00542\n",
      "Feature: 12432, Score: 0.00690\n",
      "Feature: 18301, Score: 0.00679\n",
      "Feature: 21466, Score: 0.00605\n",
      "Feature: 28685, Score: 0.01183\n",
      "Feature: 28883, Score: 0.00554\n",
      "Feature: 29700, Score: 0.01102\n",
      "Feature: 29707, Score: 0.01902\n",
      "Feature: 31527, Score: 0.00824\n",
      "Feature: 33864, Score: 0.00785\n",
      "Feature: 36794, Score: 0.00566\n",
      "Feature: 37743, Score: 0.00727\n",
      "Feature: 38157, Score: 0.00581\n",
      "Feature: 38699, Score: 0.00635\n",
      "Feature: 39212, Score: 0.00623\n",
      "Feature: 40365, Score: 0.00501\n",
      "Feature: 41407, Score: 0.00730\n",
      "Feature: 52312, Score: 0.00990\n",
      "Feature: 54730, Score: 0.01390\n",
      "Feature: 55305, Score: 0.00521\n",
      "Feature: 55306, Score: 0.00907\n"
     ]
    }
   ],
   "source": [
    "importance = model.feature_importances_\n",
    "important_features = []\n",
    "most_important_feature = 0\n",
    "most_important_feature_score = 0\n",
    "\n",
    "# summarize feature importance\n",
    "for i,v in enumerate(importance):\n",
    "    if v > 0.005:\n",
    "        print('Feature: %0d, Score: %.5f' % (i,v))\n",
    "        important_features.append(i)\n",
    "        if v > most_important_feature_score:\n",
    "            most_important_feature_score = v\n",
    "            most_important_feature = i\n",
    "        \n",
    "x = [x for x in range(len(importance))]\n",
    "y = importance\n",
    "low = min(y)\n",
    "high = max(y)"
   ]
  },
  {
   "cell_type": "code",
   "execution_count": 38,
   "id": "simplified-access",
   "metadata": {},
   "outputs": [
    {
     "data": {
      "image/png": "[encoded data removed]",
      "text/plain": [
       "<Figure size 432x288 with 1 Axes>"
      ]
     },
     "metadata": {
      "needs_background": "light"
     },
     "output_type": "display_data"
    }
   ],
   "source": [
    "# plot feature importance\n",
    "pyplot.ylim([low, 0.001])\n",
    "\n",
    "pyplot.bar(x, y)\n",
    "pyplot.show()"
   ]
  },
  {
   "cell_type": "code",
   "execution_count": 39,
   "id": "square-cleaners",
   "metadata": {},
   "outputs": [
    {
     "data": {
      "text/plain": [
       "0.01901974325590954"
      ]
     },
     "execution_count": 39,
     "metadata": {},
     "output_type": "execute_result"
    }
   ],
   "source": [
    "high"
   ]
  },
  {
   "cell_type": "code",
   "execution_count": 40,
   "id": "reflected-semiconductor",
   "metadata": {},
   "outputs": [
    {
     "data": {
      "text/plain": [
       "0.0"
      ]
     },
     "execution_count": 40,
     "metadata": {},
     "output_type": "execute_result"
    }
   ],
   "source": [
    "low"
   ]
  },
  {
   "cell_type": "code",
   "execution_count": 41,
   "id": "accepted-command",
   "metadata": {},
   "outputs": [
    {
     "data": {
      "text/plain": [
       "[9580,\n",
       " 9927,\n",
       " 10659,\n",
       " 12432,\n",
       " 18301,\n",
       " 21466,\n",
       " 28685,\n",
       " 28883,\n",
       " 29700,\n",
       " 29707,\n",
       " 31527,\n",
       " 33864,\n",
       " 36794,\n",
       " 37743,\n",
       " 38157,\n",
       " 38699,\n",
       " 39212,\n",
       " 40365,\n",
       " 41407,\n",
       " 52312,\n",
       " 54730,\n",
       " 55305,\n",
       " 55306]"
      ]
     },
     "execution_count": 41,
     "metadata": {},
     "output_type": "execute_result"
    }
   ],
   "source": [
    "important_features"
   ]
  },
  {
   "cell_type": "code",
   "execution_count": 45,
   "id": "experienced-american",
   "metadata": {},
   "outputs": [
    {
     "data": {
      "text/plain": [
       "'felix'"
      ]
     },
     "execution_count": 45,
     "metadata": {},
     "output_type": "execute_result"
    }
   ],
   "source": [
    "list(vocab)[most_important_feature]"
   ]
  },
  {
   "cell_type": "code",
   "execution_count": 46,
   "id": "timely-hobby",
   "metadata": {},
   "outputs": [
    {
     "data": {
      "text/plain": [
       "0.01901974325590954"
      ]
     },
     "execution_count": 46,
     "metadata": {},
     "output_type": "execute_result"
    }
   ],
   "source": [
    "most_important_feature_score"
   ]
  },
  {
   "cell_type": "code",
   "execution_count": 47,
   "id": "willing-bahamas",
   "metadata": {
    "tags": []
   },
   "outputs": [
    {
     "name": "stdout",
     "output_type": "stream",
     "text": [
      "summit\n",
      "sidecar\n",
      "cranford\n",
      "asem\n",
      "nerds\n",
      "pullen\n",
      "uec\n",
      "ipo\n",
      "polity\n",
      "felix\n",
      "patroclus\n",
      "shelley\n",
      "unconquered\n",
      "incipient\n",
      "caliber\n",
      "momentarily\n",
      "rashid\n",
      "topics\n",
      "tyrant\n",
      "omm\n",
      "apiology\n",
      "55305 (#tokens)\n",
      "55306 (#chars)\n"
     ]
    }
   ],
   "source": [
    "firstIndexError = True\n",
    "for f in important_features:\n",
    "    try:\n",
    "        print(list(vocab)[f])\n",
    "    except IndexError:\n",
    "        if firstIndexError:\n",
    "            print(f, \"(#tokens)\")\n",
    "            firstIndexError = False\n",
    "        else:\n",
    "            print(f, \"(#chars)\")"
   ]
  },
  {
   "cell_type": "code",
   "execution_count": 48,
   "id": "tracked-heading",
   "metadata": {},
   "outputs": [],
   "source": [
    "# char size and tokens size seem to be good indicator according to feature_importances_"
   ]
  }
 ],
 "metadata": {
  "kernelspec": {
   "display_name": "Python 3",
   "language": "python",
   "name": "python3"
  },
  "language_info": {
   "codemirror_mode": {
    "name": "ipython",
    "version": 3
   },
   "file_extension": ".py",
   "mimetype": "text/x-python",
   "name": "python",
   "nbconvert_exporter": "python",
   "pygments_lexer": "ipython3",
   "version": "3.9.2"
  }
 },
 "nbformat": 4,
 "nbformat_minor": 5
}
